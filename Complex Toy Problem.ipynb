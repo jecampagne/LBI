{
 "cells": [
  {
   "cell_type": "markdown",
   "metadata": {},
   "source": [
    "Showing off Sequential Neural Likelihood/Likelihoord Ratio method on the example problem from https://arxiv.org/abs/1805.07226 detailed in A.1 with posteriors plotted in Figure 5a. \n",
    "\n",
    "SNLR is performing quite well. Still need to figure out why SNL isn't working as well"
   ]
  },
  {
   "cell_type": "code",
   "execution_count": 1,
   "metadata": {},
   "outputs": [
    {
     "name": "stderr",
     "output_type": "stream",
     "text": [
      "2021-10-11 18:26:21.794890: W tensorflow/stream_executor/platform/default/dso_loader.cc:64] Could not load dynamic library 'libcudart.so.11.0'; dlerror: libcudart.so.11.0: cannot open shared object file: No such file or directory\n"
     ]
    }
   ],
   "source": [
    "import jax\n",
    "import jax.numpy as np\n",
    "import numpy as onp\n",
    "import optax\n",
    "from trax.jaxboard import SummaryWriter\n",
    "from lbi.prior import SmoothedBoxPrior\n",
    "from lbi.dataset import getDataLoaderBuilder\n",
    "from lbi.diagnostics import MMD, ROC_AUC, LR_ROC_AUC\n",
    "from lbi.sequential.sequential import sequential\n",
    "from lbi.models.steps import get_train_step, get_valid_step\n",
    "from lbi.models.flows import InitializeFlow\n",
    "from lbi.models.classifier import InitializeClassifier\n",
    "from lbi.trainer import getTrainer\n",
    "from lbi.sampler import hmc\n",
    "from lbi.examples.TractableProblem.tractable_problem_functions import get_simulator\n",
    "\n",
    "import corner\n",
    "import matplotlib as mpl\n",
    "import matplotlib.pyplot as plt\n",
    "import datetime\n",
    "\n",
    "%load_ext autoreload\n",
    "%autoreload 2"
   ]
  },
  {
   "cell_type": "code",
   "execution_count": 2,
   "metadata": {},
   "outputs": [],
   "source": [
    "# remove top and right axis from plots\n",
    "mpl.rcParams['axes.spines.right'] = False\n",
    "mpl.rcParams['axes.spines.top'] = False"
   ]
  },
  {
   "cell_type": "code",
   "execution_count": 3,
   "metadata": {},
   "outputs": [],
   "source": [
    "model_type = \"flow\"  # \"classifier\" or \"flow\"\n",
    "\n",
    "seed = 1234\n",
    "rng, model_rng, hmc_rng = jax.random.split(jax.random.PRNGKey(seed), num=3)\n",
    "\n",
    "# Model hyperparameters\n",
    "num_layers = 5\n",
    "hidden_dim = 512\n",
    "\n",
    "# Optimizer hyperparmeters\n",
    "max_norm = 1e-3\n",
    "learning_rate = 3e-4\n",
    "weight_decay = 1e-1\n",
    "sync_period = 5\n",
    "slow_step_size = 0.5\n",
    "\n",
    "# Train hyperparameters\n",
    "nsteps = 1000\n",
    "patience = 50\n",
    "eval_interval = 100\n",
    "\n",
    "# Sequential hyperparameters\n",
    "num_rounds = 10\n",
    "num_initial_samples = 10000\n",
    "num_samples_per_round = 10000\n",
    "num_chains = 2"
   ]
  },
  {
   "cell_type": "code",
   "execution_count": 4,
   "metadata": {},
   "outputs": [],
   "source": [
    "# set up simulation and observables\n",
    "simulate, obs_dim, theta_dim = get_simulator()\n",
    "\n",
    "# set up true model for posterior inference test\n",
    "true_theta = np.array([0.7, -2.9, -1.0, -0.9, 0.6])\n",
    "X_true = simulate(rng, true_theta, num_samples_per_theta=1)"
   ]
  },
  {
   "cell_type": "code",
   "execution_count": 5,
   "metadata": {},
   "outputs": [],
   "source": [
    "data_loader_builder = getDataLoaderBuilder(\n",
    "    sequential_mode=model_type,\n",
    "    batch_size=128,\n",
    "    train_split=0.95,\n",
    "    num_workers=0,\n",
    "    add_noise=False,\n",
    ")"
   ]
  },
  {
   "cell_type": "code",
   "execution_count": 6,
   "metadata": {},
   "outputs": [],
   "source": [
    "# set up prior\n",
    "log_prior, sample_prior = SmoothedBoxPrior(\n",
    "    theta_dim=theta_dim, lower=-3.0, upper=3.0, sigma=0.02\n",
    ")"
   ]
  },
  {
   "cell_type": "code",
   "execution_count": 7,
   "metadata": {},
   "outputs": [],
   "source": [
    "# Create model\n",
    "if model_type == \"classifier\":\n",
    "    model_params, loss, log_pdf = InitializeClassifier(\n",
    "        model_rng=model_rng,\n",
    "        obs_dim=obs_dim,\n",
    "        theta_dim=theta_dim,\n",
    "        num_layers=num_layers,\n",
    "        hidden_dim=hidden_dim,\n",
    "    )\n",
    "else:\n",
    "    model_params, loss, (log_pdf, sample) = InitializeFlow(\n",
    "        model_rng=model_rng,\n",
    "        obs_dim=obs_dim,\n",
    "        theta_dim=theta_dim,\n",
    "        num_layers=num_layers,\n",
    "        hidden_dim=hidden_dim,\n",
    "    )\n",
    "\n",
    "# Create optimizer\n",
    "optimizer = optax.chain(\n",
    "    # Set the parameters of Adam optimizer\n",
    "    optax.adamw(\n",
    "        learning_rate=learning_rate,\n",
    "        weight_decay=weight_decay,\n",
    "        b1=0.9,\n",
    "        b2=0.999,\n",
    "        eps=1e-8,\n",
    "    ),\n",
    "    optax.adaptive_grad_clip(max_norm),\n",
    ")\n",
    "optimizer = optax.lookahead(\n",
    "    optimizer, sync_period=sync_period, slow_step_size=slow_step_size\n",
    ")\n",
    "\n",
    "model_params = optax.LookaheadParams.init_synced(model_params)\n",
    "opt_state = optimizer.init(model_params)\n",
    "\n",
    "# Create trainer\n",
    "train_step = get_train_step(loss, optimizer)\n",
    "valid_step = get_valid_step({\"valid_loss\": loss})\n",
    "\n",
    "trainer = getTrainer(\n",
    "    train_step,\n",
    "    valid_step=valid_step,\n",
    "    nsteps=nsteps,\n",
    "    eval_interval=eval_interval,\n",
    "    patience=patience,\n",
    "    logger=None,\n",
    "    train_kwargs=None,\n",
    "    valid_kwargs=None,\n",
    ")"
   ]
  },
  {
   "cell_type": "code",
   "execution_count": 8,
   "metadata": {
    "tags": []
   },
   "outputs": [
    {
     "name": "stdout",
     "output_type": "stream",
     "text": [
      "STARTING ROUND 1\n"
     ]
    },
    {
     "name": "stderr",
     "output_type": "stream",
     "text": [
      "Valid loss: 1.5555: 100%|██████████| 1000/1000 [00:35<00:00, 27.79it/s]\n",
      "/home/jt/miniconda3/envs/lbi/lib/python3.9/site-packages/numpyro/infer/mcmc.py:269: UserWarning: There are not enough devices to run parallel chains: expected 2 but got 1. Chains will be drawn sequentially. If you are running MCMC in CPU, consider using `numpyro.set_host_device_count(2)` at the beginning of your program. You can double-check how many devices are available in your system using `jax.local_device_count()`.\n",
      "  warnings.warn(\n",
      "sample: 100%|██████████| 20000/20000 [01:21<00:00, 244.72it/s, 15 steps of size 1.16e-01. acc. prob=0.94]\n",
      "sample: 100%|██████████| 20000/20000 [00:53<00:00, 373.35it/s, 23 steps of size 1.69e-01. acc. prob=0.69]\n"
     ]
    },
    {
     "name": "stdout",
     "output_type": "stream",
     "text": [
      "\n",
      "                mean       std    median      5.0%     95.0%     n_eff     r_hat\n",
      "Param:0[0]      0.73      0.01      0.73      0.71      0.75   6693.40      1.00\n",
      "Param:0[1]     -2.63      0.06     -2.62     -2.70     -2.53   3033.91      1.00\n",
      "Param:0[2]      1.23      0.27      1.27      0.85      1.61   1672.12      1.00\n",
      "Param:0[3]     -2.77      0.27     -2.84     -3.04     -2.51   2064.43      1.00\n",
      "Param:0[4]      2.47      0.23      2.49      2.13      2.84   3975.95      1.00\n",
      "\n",
      "Number of divergences: 0\n"
     ]
    },
    {
     "name": "stderr",
     "output_type": "stream",
     "text": [
      "/media/jt/data/Projects/lbi/lbi/sequential/sequential.py:243: UserWarning: Matplotlib is currently using agg, which is a non-GUI backend, so cannot show the figure.\n",
      "  plt.show()\n"
     ]
    },
    {
     "name": "stdout",
     "output_type": "stream",
     "text": [
      "STARTING ROUND 2\n"
     ]
    },
    {
     "name": "stderr",
     "output_type": "stream",
     "text": [
      "Valid loss: -5.8855: 100%|██████████| 1000/1000 [00:16<00:00, 60.72it/s]\n",
      "/home/jt/miniconda3/envs/lbi/lib/python3.9/site-packages/numpyro/infer/mcmc.py:269: UserWarning: There are not enough devices to run parallel chains: expected 2 but got 1. Chains will be drawn sequentially. If you are running MCMC in CPU, consider using `numpyro.set_host_device_count(2)` at the beginning of your program. You can double-check how many devices are available in your system using `jax.local_device_count()`.\n",
      "  warnings.warn(\n",
      "sample: 100%|██████████| 20000/20000 [01:12<00:00, 275.38it/s, 51 steps of size 6.47e-02. acc. prob=0.92]\n",
      "sample: 100%|██████████| 20000/20000 [00:22<00:00, 886.03it/s, 7 steps of size 5.98e-01. acc. prob=0.85] \n"
     ]
    },
    {
     "name": "stdout",
     "output_type": "stream",
     "text": [
      "\n",
      "                mean       std    median      5.0%     95.0%     n_eff     r_hat\n",
      "Param:0[0]      0.70      0.01      0.70      0.68      0.73  13925.07      1.00\n",
      "Param:0[1]     -2.91      0.02     -2.91     -2.94     -2.88  10898.42      1.00\n",
      "Param:0[2]      0.92      0.09      0.92      0.77      1.07  12899.71      1.00\n",
      "Param:0[3]      0.08      0.33      0.11     -0.46      0.61   9789.57      1.00\n",
      "Param:0[4]      0.88      0.12      0.89      0.67      1.07  11923.47      1.00\n",
      "\n",
      "Number of divergences: 0\n"
     ]
    },
    {
     "name": "stderr",
     "output_type": "stream",
     "text": [
      "/media/jt/data/Projects/lbi/lbi/sequential/sequential.py:243: UserWarning: Matplotlib is currently using agg, which is a non-GUI backend, so cannot show the figure.\n",
      "  plt.show()\n"
     ]
    },
    {
     "name": "stdout",
     "output_type": "stream",
     "text": [
      "STARTING ROUND 3\n"
     ]
    },
    {
     "name": "stderr",
     "output_type": "stream",
     "text": [
      "Valid loss: -13.0592: 100%|██████████| 1000/1000 [00:14<00:00, 69.77it/s]\n",
      "/home/jt/miniconda3/envs/lbi/lib/python3.9/site-packages/numpyro/infer/mcmc.py:269: UserWarning: There are not enough devices to run parallel chains: expected 2 but got 1. Chains will be drawn sequentially. If you are running MCMC in CPU, consider using `numpyro.set_host_device_count(2)` at the beginning of your program. You can double-check how many devices are available in your system using `jax.local_device_count()`.\n",
      "  warnings.warn(\n",
      "sample: 100%|██████████| 20000/20000 [00:31<00:00, 636.62it/s, 11 steps of size 2.98e-01. acc. prob=0.86]\n",
      "sample: 100%|██████████| 20000/20000 [00:18<00:00, 1094.07it/s, 7 steps of size 5.04e-01. acc. prob=0.89]\n"
     ]
    },
    {
     "name": "stdout",
     "output_type": "stream",
     "text": [
      "\n",
      "                mean       std    median      5.0%     95.0%     n_eff     r_hat\n",
      "Param:0[0]      0.71      0.02      0.71      0.68      0.73      1.31      1.81\n",
      "Param:0[1]     -2.86      0.06     -2.86     -2.94     -2.77      1.09      3.01\n",
      "Param:0[2]     -0.06      1.09      0.04     -1.20      1.06      1.00     32.31\n",
      "Param:0[3]      0.65      1.15      1.30     -0.80      1.95      1.04      4.38\n",
      "Param:0[4]      0.76      0.11      0.76      0.57      0.93     17.51      1.03\n",
      "\n",
      "Number of divergences: 0\n"
     ]
    },
    {
     "name": "stderr",
     "output_type": "stream",
     "text": [
      "/media/jt/data/Projects/lbi/lbi/sequential/sequential.py:243: UserWarning: Matplotlib is currently using agg, which is a non-GUI backend, so cannot show the figure.\n",
      "  plt.show()\n"
     ]
    },
    {
     "name": "stdout",
     "output_type": "stream",
     "text": [
      "STARTING ROUND 4\n"
     ]
    },
    {
     "name": "stderr",
     "output_type": "stream",
     "text": [
      "Valid loss: -11.2087: 100%|██████████| 1000/1000 [00:15<00:00, 63.13it/s]\n",
      "/home/jt/miniconda3/envs/lbi/lib/python3.9/site-packages/numpyro/infer/mcmc.py:269: UserWarning: There are not enough devices to run parallel chains: expected 2 but got 1. Chains will be drawn sequentially. If you are running MCMC in CPU, consider using `numpyro.set_host_device_count(2)` at the beginning of your program. You can double-check how many devices are available in your system using `jax.local_device_count()`.\n",
      "  warnings.warn(\n",
      "sample: 100%|██████████| 20000/20000 [00:20<00:00, 999.83it/s, 7 steps of size 5.46e-01. acc. prob=0.93] \n",
      "sample: 100%|██████████| 20000/20000 [00:17<00:00, 1135.59it/s, 7 steps of size 6.44e-01. acc. prob=0.89]\n"
     ]
    },
    {
     "name": "stdout",
     "output_type": "stream",
     "text": [
      "\n",
      "                mean       std    median      5.0%     95.0%     n_eff     r_hat\n",
      "Param:0[0]      0.72      0.01      0.72      0.70      0.73      1.16      2.28\n",
      "Param:0[1]     -2.88      0.01     -2.88     -2.89     -2.86      2.68      1.19\n",
      "Param:0[2]     -0.02      1.03     -0.01     -1.07      1.03      1.00     75.11\n",
      "Param:0[3]      1.20      0.14      1.20      0.99      1.40      1.19      2.17\n",
      "Param:0[4]      0.71      0.05      0.71      0.62      0.79      1.82      1.36\n",
      "\n",
      "Number of divergences: 0\n"
     ]
    },
    {
     "name": "stderr",
     "output_type": "stream",
     "text": [
      "/media/jt/data/Projects/lbi/lbi/sequential/sequential.py:243: UserWarning: Matplotlib is currently using agg, which is a non-GUI backend, so cannot show the figure.\n",
      "  plt.show()\n"
     ]
    },
    {
     "name": "stdout",
     "output_type": "stream",
     "text": [
      "STARTING ROUND 5\n"
     ]
    },
    {
     "name": "stderr",
     "output_type": "stream",
     "text": [
      "Valid loss: -13.6414: 100%|██████████| 1000/1000 [00:15<00:00, 63.12it/s]\n",
      "/home/jt/miniconda3/envs/lbi/lib/python3.9/site-packages/numpyro/infer/mcmc.py:269: UserWarning: There are not enough devices to run parallel chains: expected 2 but got 1. Chains will be drawn sequentially. If you are running MCMC in CPU, consider using `numpyro.set_host_device_count(2)` at the beginning of your program. You can double-check how many devices are available in your system using `jax.local_device_count()`.\n",
      "  warnings.warn(\n",
      "sample: 100%|██████████| 20000/20000 [00:20<00:00, 976.25it/s, 7 steps of size 7.09e-01. acc. prob=0.89] \n",
      "sample: 100%|██████████| 20000/20000 [00:19<00:00, 1008.91it/s, 7 steps of size 5.21e-01. acc. prob=0.94]\n"
     ]
    },
    {
     "name": "stdout",
     "output_type": "stream",
     "text": [
      "\n",
      "                mean       std    median      5.0%     95.0%     n_eff     r_hat\n",
      "Param:0[0]      0.71      0.00      0.71      0.70      0.72  23866.00      1.00\n",
      "Param:0[1]     -2.89      0.00     -2.89     -2.89     -2.88  23722.56      1.00\n",
      "Param:0[2]      1.01      0.01      1.01      1.00      1.03  21948.38      1.00\n",
      "Param:0[3]      0.93      0.03      0.93      0.89      0.97  24616.03      1.00\n",
      "Param:0[4]      0.65      0.02      0.65      0.62      0.68  22487.81      1.00\n",
      "\n",
      "Number of divergences: 0\n"
     ]
    },
    {
     "name": "stderr",
     "output_type": "stream",
     "text": [
      "/media/jt/data/Projects/lbi/lbi/sequential/sequential.py:243: UserWarning: Matplotlib is currently using agg, which is a non-GUI backend, so cannot show the figure.\n",
      "  plt.show()\n"
     ]
    },
    {
     "name": "stdout",
     "output_type": "stream",
     "text": [
      "STARTING ROUND 6\n"
     ]
    },
    {
     "name": "stderr",
     "output_type": "stream",
     "text": [
      "Valid loss: -19.5586: 100%|██████████| 1000/1000 [00:16<00:00, 59.96it/s]\n",
      "/home/jt/miniconda3/envs/lbi/lib/python3.9/site-packages/numpyro/infer/mcmc.py:269: UserWarning: There are not enough devices to run parallel chains: expected 2 but got 1. Chains will be drawn sequentially. If you are running MCMC in CPU, consider using `numpyro.set_host_device_count(2)` at the beginning of your program. You can double-check how many devices are available in your system using `jax.local_device_count()`.\n",
      "  warnings.warn(\n",
      "sample: 100%|██████████| 20000/20000 [00:18<00:00, 1058.48it/s, 7 steps of size 6.56e-01. acc. prob=0.90]\n",
      "sample: 100%|██████████| 20000/20000 [00:16<00:00, 1231.72it/s, 7 steps of size 6.70e-01. acc. prob=0.90]\n"
     ]
    },
    {
     "name": "stdout",
     "output_type": "stream",
     "text": [
      "\n",
      "                mean       std    median      5.0%     95.0%     n_eff     r_hat\n",
      "Param:0[0]      0.69      0.00      0.69      0.69      0.70  22884.40      1.00\n",
      "Param:0[1]     -2.88      0.00     -2.88     -2.89     -2.87  23644.81      1.00\n",
      "Param:0[2]     -1.00      0.01     -1.00     -1.01     -0.99  23229.62      1.00\n",
      "Param:0[3]      0.84      0.02      0.84      0.82      0.87  24097.15      1.00\n",
      "Param:0[4]      0.63      0.01      0.63      0.61      0.65  23952.97      1.00\n",
      "\n",
      "Number of divergences: 0\n"
     ]
    },
    {
     "name": "stderr",
     "output_type": "stream",
     "text": [
      "/media/jt/data/Projects/lbi/lbi/sequential/sequential.py:243: UserWarning: Matplotlib is currently using agg, which is a non-GUI backend, so cannot show the figure.\n",
      "  plt.show()\n"
     ]
    },
    {
     "name": "stdout",
     "output_type": "stream",
     "text": [
      "STARTING ROUND 7\n"
     ]
    },
    {
     "name": "stderr",
     "output_type": "stream",
     "text": [
      "Valid loss: -19.7389: 100%|██████████| 1000/1000 [00:17<00:00, 57.19it/s]\n",
      "/home/jt/miniconda3/envs/lbi/lib/python3.9/site-packages/numpyro/infer/mcmc.py:269: UserWarning: There are not enough devices to run parallel chains: expected 2 but got 1. Chains will be drawn sequentially. If you are running MCMC in CPU, consider using `numpyro.set_host_device_count(2)` at the beginning of your program. You can double-check how many devices are available in your system using `jax.local_device_count()`.\n",
      "  warnings.warn(\n",
      "sample: 100%|██████████| 20000/20000 [00:19<00:00, 1032.83it/s, 7 steps of size 6.29e-01. acc. prob=0.91]\n",
      "sample: 100%|██████████| 20000/20000 [00:15<00:00, 1273.27it/s, 7 steps of size 7.36e-01. acc. prob=0.87]\n"
     ]
    },
    {
     "name": "stdout",
     "output_type": "stream",
     "text": [
      "\n",
      "                mean       std    median      5.0%     95.0%     n_eff     r_hat\n",
      "Param:0[0]      0.70      0.00      0.70      0.70      0.71  22104.39      1.00\n",
      "Param:0[1]     -2.90      0.00     -2.90     -2.91     -2.89  24956.33      1.00\n",
      "Param:0[2]      1.02      0.01      1.02      1.01      1.03  20739.00      1.00\n",
      "Param:0[3]      0.90      0.01      0.90      0.89      0.91  25123.37      1.00\n",
      "Param:0[4]      0.59      0.01      0.59      0.57      0.60  23964.88      1.00\n",
      "\n",
      "Number of divergences: 0\n"
     ]
    },
    {
     "name": "stderr",
     "output_type": "stream",
     "text": [
      "/media/jt/data/Projects/lbi/lbi/sequential/sequential.py:243: UserWarning: Matplotlib is currently using agg, which is a non-GUI backend, so cannot show the figure.\n",
      "  plt.show()\n"
     ]
    },
    {
     "name": "stdout",
     "output_type": "stream",
     "text": [
      "STARTING ROUND 8\n"
     ]
    },
    {
     "name": "stderr",
     "output_type": "stream",
     "text": [
      "Valid loss: -19.7875: 100%|██████████| 1000/1000 [00:18<00:00, 54.81it/s]\n",
      "/home/jt/miniconda3/envs/lbi/lib/python3.9/site-packages/numpyro/infer/mcmc.py:269: UserWarning: There are not enough devices to run parallel chains: expected 2 but got 1. Chains will be drawn sequentially. If you are running MCMC in CPU, consider using `numpyro.set_host_device_count(2)` at the beginning of your program. You can double-check how many devices are available in your system using `jax.local_device_count()`.\n",
      "  warnings.warn(\n",
      "sample: 100%|██████████| 20000/20000 [00:18<00:00, 1078.65it/s, 7 steps of size 6.65e-01. acc. prob=0.89]\n",
      "sample: 100%|██████████| 20000/20000 [00:15<00:00, 1261.06it/s, 7 steps of size 6.87e-01. acc. prob=0.90]\n"
     ]
    },
    {
     "name": "stdout",
     "output_type": "stream",
     "text": [
      "\n",
      "                mean       std    median      5.0%     95.0%     n_eff     r_hat\n",
      "Param:0[0]      0.69      0.00      0.69      0.69      0.70      2.21      1.26\n",
      "Param:0[1]     -2.90      0.00     -2.90     -2.90     -2.89     11.98      1.04\n",
      "Param:0[2]     -0.01      1.00      0.00     -1.01      1.00      1.00    152.68\n",
      "Param:0[3]      0.91      0.01      0.91      0.90      0.93      4.54      1.10\n",
      "Param:0[4]      0.63      0.01      0.63      0.61      0.65      2.61      1.20\n",
      "\n",
      "Number of divergences: 0\n"
     ]
    },
    {
     "name": "stderr",
     "output_type": "stream",
     "text": [
      "/media/jt/data/Projects/lbi/lbi/sequential/sequential.py:243: UserWarning: Matplotlib is currently using agg, which is a non-GUI backend, so cannot show the figure.\n",
      "  plt.show()\n"
     ]
    },
    {
     "name": "stdout",
     "output_type": "stream",
     "text": [
      "STARTING ROUND 9\n"
     ]
    },
    {
     "name": "stderr",
     "output_type": "stream",
     "text": [
      "Valid loss: -18.2406: 100%|██████████| 1000/1000 [00:18<00:00, 54.05it/s]\n",
      "/home/jt/miniconda3/envs/lbi/lib/python3.9/site-packages/numpyro/infer/mcmc.py:269: UserWarning: There are not enough devices to run parallel chains: expected 2 but got 1. Chains will be drawn sequentially. If you are running MCMC in CPU, consider using `numpyro.set_host_device_count(2)` at the beginning of your program. You can double-check how many devices are available in your system using `jax.local_device_count()`.\n",
      "  warnings.warn(\n",
      "sample: 100%|██████████| 20000/20000 [00:17<00:00, 1159.45it/s, 7 steps of size 7.30e-01. acc. prob=0.88]\n",
      "sample: 100%|██████████| 20000/20000 [00:16<00:00, 1236.00it/s, 7 steps of size 5.93e-01. acc. prob=0.93]\n"
     ]
    },
    {
     "name": "stdout",
     "output_type": "stream",
     "text": [
      "\n",
      "                mean       std    median      5.0%     95.0%     n_eff     r_hat\n",
      "Param:0[0]      0.71      0.00      0.71      0.71      0.72  24358.95      1.00\n",
      "Param:0[1]     -2.89      0.00     -2.89     -2.90     -2.88  26507.03      1.00\n",
      "Param:0[2]      1.01      0.01      1.01      1.00      1.02  22766.26      1.00\n",
      "Param:0[3]      0.88      0.01      0.88      0.87      0.89  26304.88      1.00\n",
      "Param:0[4]      0.61      0.01      0.61      0.60      0.63  24836.85      1.00\n",
      "\n",
      "Number of divergences: 0\n"
     ]
    },
    {
     "name": "stderr",
     "output_type": "stream",
     "text": [
      "/media/jt/data/Projects/lbi/lbi/sequential/sequential.py:243: UserWarning: Matplotlib is currently using agg, which is a non-GUI backend, so cannot show the figure.\n",
      "  plt.show()\n"
     ]
    },
    {
     "name": "stdout",
     "output_type": "stream",
     "text": [
      "STARTING ROUND 10\n"
     ]
    },
    {
     "name": "stderr",
     "output_type": "stream",
     "text": [
      "Valid loss: -21.2366: 100%|██████████| 1000/1000 [00:19<00:00, 51.41it/s]\n",
      "/home/jt/miniconda3/envs/lbi/lib/python3.9/site-packages/numpyro/infer/mcmc.py:269: UserWarning: There are not enough devices to run parallel chains: expected 2 but got 1. Chains will be drawn sequentially. If you are running MCMC in CPU, consider using `numpyro.set_host_device_count(2)` at the beginning of your program. You can double-check how many devices are available in your system using `jax.local_device_count()`.\n",
      "  warnings.warn(\n",
      "sample: 100%|██████████| 20000/20000 [00:17<00:00, 1113.25it/s, 7 steps of size 6.85e-01. acc. prob=0.90]\n",
      "sample: 100%|██████████| 20000/20000 [00:15<00:00, 1271.62it/s, 7 steps of size 6.75e-01. acc. prob=0.91]\n"
     ]
    },
    {
     "name": "stdout",
     "output_type": "stream",
     "text": [
      "\n",
      "                mean       std    median      5.0%     95.0%     n_eff     r_hat\n",
      "Param:0[0]      0.70      0.00      0.70      0.70      0.71  22972.41      1.00\n",
      "Param:0[1]     -2.90      0.00     -2.90     -2.90     -2.89  26027.96      1.00\n",
      "Param:0[2]      1.00      0.00      1.00      0.99      1.01  20544.33      1.00\n",
      "Param:0[3]      0.90      0.01      0.90      0.89      0.91  24980.98      1.00\n",
      "Param:0[4]      0.58      0.01      0.58      0.56      0.59  24734.77      1.00\n",
      "\n",
      "Number of divergences: 0\n"
     ]
    },
    {
     "name": "stderr",
     "output_type": "stream",
     "text": [
      "/media/jt/data/Projects/lbi/lbi/sequential/sequential.py:243: UserWarning: Matplotlib is currently using agg, which is a non-GUI backend, so cannot show the figure.\n",
      "  plt.show()\n"
     ]
    }
   ],
   "source": [
    "# Train model sequentially\n",
    "model_params, Theta_post = sequential(\n",
    "    rng,\n",
    "    X_true,\n",
    "    model_params,\n",
    "    log_pdf,\n",
    "    log_prior,\n",
    "    sample_prior,\n",
    "    simulate,\n",
    "    opt_state,\n",
    "    trainer,\n",
    "    data_loader_builder,\n",
    "    num_rounds=num_rounds,\n",
    "    num_initial_samples=num_initial_samples,\n",
    "    num_samples_per_round=num_samples_per_round,\n",
    "    num_samples_per_theta=1,\n",
    "    num_chains=num_chains,\n",
    "    logger=None,\n",
    ")"
   ]
  },
  {
   "cell_type": "code",
   "execution_count": 9,
   "metadata": {},
   "outputs": [],
   "source": [
    "def potential_fn(theta):\n",
    "    if len(theta.shape) == 1:\n",
    "        theta = theta[None, :]\n",
    "    log_post = (\n",
    "        -log_pdf(\n",
    "            model_params.fast if hasattr(model_params, \"fast\") else model_params,\n",
    "            X_true,\n",
    "            theta,\n",
    "        )\n",
    "        - log_prior(theta)\n",
    "    )\n",
    "    return log_post.sum()"
   ]
  },
  {
   "cell_type": "code",
   "execution_count": 10,
   "metadata": {},
   "outputs": [
    {
     "name": "stderr",
     "output_type": "stream",
     "text": [
      "/home/jt/miniconda3/envs/lbi/lib/python3.9/site-packages/numpyro/infer/mcmc.py:269: UserWarning: There are not enough devices to run parallel chains: expected 20 but got 1. Chains will be drawn sequentially. If you are running MCMC in CPU, consider using `numpyro.set_host_device_count(20)` at the beginning of your program. You can double-check how many devices are available in your system using `jax.local_device_count()`.\n",
      "  warnings.warn(\n",
      "sample: 100%|██████████| 4000/4000 [00:05<00:00, 685.73it/s, 3 steps of size 6.19e-01. acc. prob=0.86] \n",
      "sample: 100%|██████████| 4000/4000 [00:03<00:00, 1110.10it/s, 7 steps of size 6.12e-01. acc. prob=0.89]\n",
      "sample: 100%|██████████| 4000/4000 [00:03<00:00, 1057.88it/s, 3 steps of size 5.09e-01. acc. prob=0.91]\n",
      "sample: 100%|██████████| 4000/4000 [00:03<00:00, 1074.26it/s, 7 steps of size 6.30e-01. acc. prob=0.90]\n",
      "sample: 100%|██████████| 4000/4000 [00:03<00:00, 1056.41it/s, 7 steps of size 5.77e-01. acc. prob=0.90]\n",
      "sample: 100%|██████████| 4000/4000 [00:03<00:00, 1218.10it/s, 3 steps of size 6.89e-01. acc. prob=0.88]\n",
      "sample: 100%|██████████| 4000/4000 [00:00<00:00, 4741.30it/s, 1 steps of size 1.18e-38. acc. prob=0.00]\n",
      "sample: 100%|██████████| 4000/4000 [00:03<00:00, 1145.26it/s, 7 steps of size 5.98e-01. acc. prob=0.91]\n",
      "sample: 100%|██████████| 4000/4000 [00:03<00:00, 1142.16it/s, 7 steps of size 6.56e-01. acc. prob=0.87]\n",
      "sample: 100%|██████████| 4000/4000 [00:04<00:00, 925.15it/s, 7 steps of size 5.53e-01. acc. prob=0.92] \n",
      "sample: 100%|██████████| 4000/4000 [00:03<00:00, 1098.69it/s, 7 steps of size 5.30e-01. acc. prob=0.92]\n",
      "sample: 100%|██████████| 4000/4000 [00:03<00:00, 1166.95it/s, 3 steps of size 6.29e-01. acc. prob=0.86]\n",
      "sample: 100%|██████████| 4000/4000 [00:00<00:00, 4612.67it/s, 1 steps of size 1.18e-38. acc. prob=0.00]\n",
      "sample: 100%|██████████| 4000/4000 [00:03<00:00, 1261.29it/s, 3 steps of size 7.64e-01. acc. prob=0.85]\n",
      "sample: 100%|██████████| 4000/4000 [00:03<00:00, 1090.11it/s, 7 steps of size 5.20e-01. acc. prob=0.92]\n",
      "sample: 100%|██████████| 4000/4000 [00:03<00:00, 1203.71it/s, 3 steps of size 6.55e-01. acc. prob=0.89]\n",
      "sample: 100%|██████████| 4000/4000 [00:03<00:00, 1152.71it/s, 7 steps of size 6.94e-01. acc. prob=0.88]\n",
      "sample: 100%|██████████| 4000/4000 [00:03<00:00, 1039.65it/s, 7 steps of size 5.44e-01. acc. prob=0.91]\n",
      "sample: 100%|██████████| 4000/4000 [00:00<00:00, 4543.19it/s, 1 steps of size 1.18e-38. acc. prob=0.00]\n",
      "sample: 100%|██████████| 4000/4000 [00:03<00:00, 1086.74it/s, 3 steps of size 5.86e-01. acc. prob=0.90]\n"
     ]
    },
    {
     "name": "stdout",
     "output_type": "stream",
     "text": [
      "\n",
      "                mean       std    median      5.0%     95.0%     n_eff     r_hat\n",
      "Param:0[0]      0.71      0.26      0.70      0.03      0.72     10.00     86.53\n",
      "Param:0[1]     -2.09      1.95     -2.90     -2.91      2.59     10.00    437.74\n",
      "Param:0[2]      0.52      1.23      0.99     -1.01      2.40     10.00    256.07\n",
      "Param:0[3]     -0.07      1.14     -0.01     -1.02      1.55     10.00    130.86\n",
      "Param:0[4]      0.47      0.92      0.59     -2.43      0.61     10.01     58.70\n",
      "\n",
      "Number of divergences: 6000\n"
     ]
    }
   ],
   "source": [
    "num_chains = 20\n",
    "init_theta = sample_prior(rng, num_samples=num_chains)\n",
    "\n",
    "mcmc = hmc(\n",
    "    rng,\n",
    "    potential_fn,\n",
    "    init_theta,\n",
    "    adapt_step_size=True,\n",
    "    adapt_mass_matrix=True,\n",
    "    dense_mass=True,\n",
    "    step_size=1e0,\n",
    "    max_tree_depth=6,\n",
    "    num_warmup=2000,\n",
    "    num_samples=2000,\n",
    "    num_chains=num_chains,\n",
    ")\n",
    "mcmc.print_summary()\n",
    "\n",
    "theta_samples = mcmc.get_samples(group_by_chain=False).squeeze()\n",
    "\n",
    "theta_dim = theta_samples.shape[-1]\n",
    "true_theta = onp.array([0.7, -2.9, -1.0, -0.9, 0.6])"
   ]
  },
  {
   "cell_type": "code",
   "execution_count": 11,
   "metadata": {},
   "outputs": [],
   "source": [
    "corner.corner(\n",
    "    onp.array(theta_samples),\n",
    "    range=[(-3, 3) for i in range(theta_dim)],\n",
    "    truths=true_theta,\n",
    "    bins=75,\n",
    "    smooth=(1.0),\n",
    "    smooth1d=(1.0),\n",
    ")\n",
    "# plt.show()\n",
    "plt.savefig(\"hmc_corner.png\")"
   ]
  },
  {
   "cell_type": "code",
   "execution_count": null,
   "metadata": {},
   "outputs": [],
   "source": []
  },
  {
   "cell_type": "code",
   "execution_count": null,
   "metadata": {},
   "outputs": [],
   "source": []
  }
 ],
 "metadata": {
  "interpreter": {
   "hash": "d2e8d65274f55ff29bc5bc401d6ed4d2395bc5c4486b6fab9d844ab2cebf411b"
  },
  "kernelspec": {
   "display_name": "Python 3.9.6 64-bit ('lbi': conda)",
   "name": "python3"
  },
  "language_info": {
   "codemirror_mode": {
    "name": "ipython",
    "version": 3
   },
   "file_extension": ".py",
   "mimetype": "text/x-python",
   "name": "python",
   "nbconvert_exporter": "python",
   "pygments_lexer": "ipython3",
   "version": "3.9.6"
  }
 },
 "nbformat": 4,
 "nbformat_minor": 4
}
